{
 "cells": [
  {
   "attachments": {},
   "cell_type": "markdown",
   "id": "b773bf8e-c420-44e1-80a6-99f75dd12268",
   "metadata": {},
   "source": [
    "## Pipelines and Transformers\n",
    "\n",
    "**<font color=\"red\">EXPERIMENTAL! To use, please checkout the pipelines branch</font>**\n",
    "\n",
    "```\n",
    "git checkout pipelines\n",
    "```\n",
    "\n",
    "This notebook is part of the `ML Challenges for Streaming Data Hands-On Tutorial` (ECML'24) and contains some basics for Pipelines using CapyMOA.\n",
    "* Basic pipeline configuration\n",
    "* How to compose pipelines\n",
    "* How to use pipelines as classifiers and regressors\n",
    "* How to configure drift detection\n",
    "* How to define custom pipeline elements\n",
    "\n",
    "---\n",
    "\n",
    "### CapyMOA \n",
    "\n",
    "* More information about CapyMOA can be found in: [https://github.com/adaptive-machine-learning/CapyMOA](https://github.com/adaptive-machine-learning/CapyMOA)\n",
    "\n",
    "* _If you find CapyMOA useful, considering starring the project and joining the Discord channel!_\n",
    "\n",
    "* **ECML 2024 tutorial ([homepage](https://heymarco.github.io/ecml24-streamingchallenges/))** by [Heitor Murilo Gomes](https://heitorgomes.com/), [Marco Heyden](https://heymarco.github.io/) and [Maroua Bahri](https://sites.google.com/site/bahrimarouaa/home). Vilnius, Lithuania (09/09/2024).\n",
    "\n",
    "\n",
    "### Class Diagram\n",
    "\n",
    "<p align=\"center\">\n",
    "  <img src=\"./images/pipelines.png\" alt=\"alt text\" width=100%/>\n",
    "</p>\n"
   ]
  },
  {
   "attachments": {},
   "cell_type": "markdown",
   "id": "55d070de-8697-4f98-a11b-eab4e3d5c281",
   "metadata": {},
   "source": [
    "## 1. Running onlineBagging without any preprocessing\n",
    "\n",
    "First, let us have a look at a simple test-then-train classification example without pipelines. \n",
    "- We loop over the instances of the data stream\n",
    "- make a prediction,\n",
    "- update the evaluator with the prediction and label\n",
    "- and then train the classifier on the instance."
   ]
  },
  {
   "cell_type": "code",
   "execution_count": 1,
   "id": "14681f54-23a1-4f93-9145-abf484c91c54",
   "metadata": {},
   "outputs": [
    {
     "data": {
      "text/plain": [
       "80.53937146892656"
      ]
     },
     "execution_count": 1,
     "metadata": {},
     "output_type": "execute_result"
    }
   ],
   "source": [
    "## Test-then-train loop\n",
    "from capymoa.stream.preprocessing import MOATransformer\n",
    "from capymoa.datasets import Electricity\n",
    "from capymoa.classifier import OnlineBagging\n",
    "from capymoa.evaluation import ClassificationEvaluator\n",
    "\n",
    "from moa.streams.filters import NormalisationFilter, ReplacingMissingValuesFilter\n",
    "\n",
    "\n",
    "# Opening a file as a stream\n",
    "elec_stream = Electricity()\n",
    "\n",
    "# Creating the transformers\n",
    "missing_values_transformer = MOATransformer(schema=elec_stream.get_schema(), moa_filter=ReplacingMissingValuesFilter())\n",
    "normalisation_transformer = MOATransformer(schema=missing_values_transformer.get_schema(), moa_filter=NormalisationFilter())\n",
    "\n",
    "# Creating a learner\n",
    "ob_learner = OnlineBagging(schema=elec_stream.get_schema(), ensemble_size=5)\n",
    "\n",
    "# Creating the evaluator\n",
    "ob_evaluator = ClassificationEvaluator(schema=elec_stream.get_schema())\n",
    "\n",
    "while elec_stream.has_more_instances():\n",
    "    # get instance\n",
    "    instance = elec_stream.next_instance()\n",
    "    \n",
    "    # transform instance\n",
    "    transformed_instance = missing_values_transformer.transform_instance(instance)\n",
    "    transformed_instance = normalisation_transformer.transform_instance(transformed_instance)\n",
    "\n",
    "    # make prediction\n",
    "    prediction = ob_learner.predict(transformed_instance)\n",
    "    \n",
    "    # update metric\n",
    "    ob_evaluator.update(transformed_instance.y_index, prediction)\n",
    "    \n",
    "    # train\n",
    "    ob_learner.train(transformed_instance)\n",
    "\n",
    "ob_evaluator.accuracy()"
   ]
  },
  {
   "cell_type": "markdown",
   "id": "94362841-b267-471b-9a8c-b4094ad81acb",
   "metadata": {},
   "source": [
    "## 2. Transforming instances using pipelines\n",
    "\n",
    "If we want to perform some preprocessing, such as normalization or feature transformation, or a combination of both, we can chain multiple `Transformer`s within a pipeline. The most basic pipeline class `BasePipeline` already supports this."
   ]
  },
  {
   "cell_type": "code",
   "execution_count": 2,
   "id": "6724b905-53a0-49e9-b8a6-af1b30aececc",
   "metadata": {},
   "outputs": [
    {
     "name": "stdout",
     "output_type": "stream",
     "text": [
      "\n"
     ]
    },
    {
     "data": {
      "text/plain": [
       "80.53937146892656"
      ]
     },
     "execution_count": 2,
     "metadata": {},
     "output_type": "execute_result"
    }
   ],
   "source": [
    "from capymoa.stream.preprocessing import MOATransformer\n",
    "from capymoa.stream.preprocessing import BasePipeline\n",
    "from capymoa.stream import Stream\n",
    "from moa.streams.filters import NormalisationFilter, ReplacingMissingValuesFilter\n",
    "from moa.streams import FilteredStream\n",
    "\n",
    "elec_stream = Electricity()\n",
    "\n",
    "# Creating the transformers\n",
    "missing_values_transformer = MOATransformer(schema=elec_stream.get_schema(), moa_filter=ReplacingMissingValuesFilter())\n",
    "normalisation_transformer = MOATransformer(schema=missing_values_transformer.get_schema(), moa_filter=NormalisationFilter())\n",
    "\n",
    "# Creating and populating the pipeline\n",
    "preprocessing_pipeline = BasePipeline()\n",
    "print(preprocessing_pipeline)\n",
    "\n",
    "# Add the transformers to the pipeline. We can change the calls to add_transformer, as they return self\n",
    "preprocessing_pipeline = (preprocessing_pipeline\n",
    "                          .add_transformer(missing_values_transformer)\n",
    "                          .add_transformer(normalisation_transformer)\n",
    "                         )\n",
    "\n",
    "# Creating a learner\n",
    "ob_learner = OnlineBagging(schema=normalisation_transformer.get_schema(), ensemble_size=5)\n",
    "\n",
    "# Creating the evaluator\n",
    "ob_evaluator = ClassificationEvaluator(schema=normalisation_transformer.get_schema()) \n",
    "\n",
    "while elec_stream.has_more_instances():\n",
    "    # get instance\n",
    "    instance = elec_stream.next_instance()\n",
    "\n",
    "    # run preprocessing\n",
    "    transformed_instance = preprocessing_pipeline.pass_forward(instance)\n",
    "    \n",
    "    # make prediction\n",
    "    prediction = ob_learner.predict(transformed_instance)\n",
    "    \n",
    "    # update metric\n",
    "    ob_evaluator.update(transformed_instance.y_index, prediction)\n",
    "    \n",
    "    # train\n",
    "    ob_learner.train(transformed_instance)\n",
    "\n",
    "ob_evaluator.accuracy()"
   ]
  },
  {
   "attachments": {},
   "cell_type": "markdown",
   "id": "0c1360ef-0583-4c87-8645-1e2d701fffca",
   "metadata": {},
   "source": [
    "## 2. Online Bagging using pipelines and transformers\n",
    "\n",
    "Similar as classifiers, a `ClassifierPipeline` supports `train` and `predict`. Hence, we can use it in the same way as we would use other capymoa classifiers. \n",
    "\n",
    "- When calling `train`, the pipeline object internally calls `pass_forward` on all elements.\n",
    "- When calling `predict`, the pipeline object internally calls `pass_forward_predict` on all elements and then returns the resulting prediction."
   ]
  },
  {
   "cell_type": "code",
   "execution_count": 3,
   "id": "ae9bb646-e0d1-4de6-b5a1-cff0f0a1b172",
   "metadata": {},
   "outputs": [
    {
     "data": {
      "text/plain": [
       "80.53937146892656"
      ]
     },
     "execution_count": 3,
     "metadata": {},
     "output_type": "execute_result"
    }
   ],
   "source": [
    "from capymoa.stream.preprocessing import MOATransformer\n",
    "from capymoa.stream.preprocessing import ClassifierPipeline\n",
    "from capymoa.stream import Stream\n",
    "from moa.streams.filters import NormalisationFilter, ReplacingMissingValuesFilter\n",
    "from moa.streams import FilteredStream\n",
    "\n",
    "elec_stream = Electricity()\n",
    "\n",
    "# Creating the transformers\n",
    "missing_values_transformer = MOATransformer(schema=elec_stream.get_schema(), moa_filter=ReplacingMissingValuesFilter())\n",
    "normalisation_transformer = MOATransformer(schema=missing_values_transformer.get_schema(), moa_filter=NormalisationFilter())\n",
    "\n",
    "# Creating a learner\n",
    "ob_learner = OnlineBagging(schema=normalisation_transformer.get_schema(), ensemble_size=5)\n",
    "\n",
    "# Creating and populating the pipeline\n",
    "pipeline = (ClassifierPipeline()\n",
    "            .add_transformer(missing_values_transformer)\n",
    "            .add_transformer(normalisation_transformer)\n",
    "            .add_classifier(ob_learner))\n",
    "\n",
    "# Creating the evaluator\n",
    "ob_evaluator = ClassificationEvaluator(schema=elec_stream.get_schema()) \n",
    "\n",
    "while elec_stream.has_more_instances():\n",
    "    # get instance\n",
    "    instance = elec_stream.next_instance()\n",
    "\n",
    "    # use pipeline to make prediction\n",
    "    prediction = pipeline.predict(instance)\n",
    "\n",
    "    # update metric\n",
    "    ob_evaluator.update(instance.y_index, prediction)\n",
    "\n",
    "    # train pipeline\n",
    "    pipeline.train(instance)\n",
    "\n",
    "ob_evaluator.accuracy()"
   ]
  },
  {
   "cell_type": "markdown",
   "id": "676f53b7-0839-47a5-88f9-393b2007855e",
   "metadata": {},
   "source": [
    "We can also get a textual representation of the pipeline:"
   ]
  },
  {
   "cell_type": "code",
   "execution_count": 4,
   "id": "31a481db-d23b-4fc8-a689-fc5c14df5fff",
   "metadata": {},
   "outputs": [
    {
     "data": {
      "text/plain": [
       "'PE(Transformer(ReplacingMissingValuesFilter)) | PE(Transformer(NormalisationFilter)) | PE(OnlineBagging) | '"
      ]
     },
     "execution_count": 4,
     "metadata": {},
     "output_type": "execute_result"
    }
   ],
   "source": [
    "str(pipeline)"
   ]
  },
  {
   "cell_type": "markdown",
   "id": "5cc06f0d-d2a0-4fc6-aa9f-ea80e0d224cd",
   "metadata": {},
   "source": [
    "## 3. RegressorPipeline\n",
    "\n",
    "The regression version of the pipeline is analogous to the classification one"
   ]
  },
  {
   "cell_type": "code",
   "execution_count": 5,
   "id": "f3c8271b-bbb7-4ca9-97f5-fb41e27ec4fd",
   "metadata": {},
   "outputs": [
    {
     "name": "stdout",
     "output_type": "stream",
     "text": [
      "RMSE = 2.58\n"
     ]
    }
   ],
   "source": [
    "from capymoa.regressor import AdaptiveRandomForestRegressor\n",
    "from capymoa.stream.preprocessing import RegressorPipeline\n",
    "from capymoa.evaluation import RegressionEvaluator\n",
    "from capymoa.datasets import Fried\n",
    "\n",
    "fried_stream = Fried()\n",
    "\n",
    "# Create the transformers\n",
    "missing_values_transformer = MOATransformer(schema=elec_stream.get_schema(), moa_filter=ReplacingMissingValuesFilter())\n",
    "normalisation_transformer = MOATransformer(schema=fried_stream.get_schema(), moa_filter=NormalisationFilter())\n",
    "\n",
    "arfreg = AdaptiveRandomForestRegressor(schema=normalisation_transformer.get_schema(), ensemble_size=5)\n",
    "\n",
    "# Creating and populating the pipeline\n",
    "pipeline_arfreg = (RegressorPipeline()\n",
    "                   .add_transformer(missing_values_transformer)\n",
    "                   .add_transformer(normalisation_transformer)\n",
    "                   .add_regressor(arfreg)\n",
    "                  )\n",
    "\n",
    "# Creating the evaluator\n",
    "arfreg_evaluator = RegressionEvaluator(schema=fried_stream.get_schema()) \n",
    "\n",
    "while fried_stream.has_more_instances():\n",
    "    instance = fried_stream.next_instance()\n",
    "    prediction = pipeline_arfreg.predict(instance)\n",
    "    arfreg_evaluator.update(instance.y_value, prediction)\n",
    "    pipeline_arfreg.train(instance)\n",
    "\n",
    "print(f\"RMSE = {round(arfreg_evaluator.rmse(), 2)}\")"
   ]
  },
  {
   "cell_type": "markdown",
   "id": "cfd6bceb-9969-4b79-8f91-1d312c72c331",
   "metadata": {},
   "source": [
    "## 4. Drift Detection\n",
    "\n",
    "We now showcase the use of drift detectors in pipelines with two small examples\n",
    "1. Drift detector accuracy\n",
    "2. Drift detector monitors first input feature"
   ]
  },
  {
   "cell_type": "markdown",
   "id": "4ac8bbd3-009d-4af3-b6a4-23e004f1ba6f",
   "metadata": {},
   "source": [
    "### 4.1 Monitoring classifier accuracy"
   ]
  },
  {
   "cell_type": "code",
   "execution_count": 6,
   "id": "5e18f1ad-c358-4773-8904-b33787585021",
   "metadata": {},
   "outputs": [
    {
     "name": "stdout",
     "output_type": "stream",
     "text": [
      "Detected change at index 3039\n",
      "Detected change at index 5535\n",
      "Detected change at index 9183\n",
      "Detected change at index 9215\n",
      "Detected change at index 9535\n",
      "Detected change at index 9599\n",
      "Detected change at index 12415\n",
      "Detected change at index 13023\n",
      "Detected change at index 13183\n",
      "Detected change at index 16031\n",
      "Detected change at index 18143\n",
      "Detected change at index 18815\n",
      "Detected change at index 18879\n",
      "Detected change at index 19263\n",
      "Detected change at index 21407\n",
      "Detected change at index 21503\n",
      "Detected change at index 23775\n",
      "Detected change at index 24095\n",
      "Detected change at index 24127\n",
      "Detected change at index 24959\n",
      "Detected change at index 24991\n",
      "Detected change at index 26143\n",
      "Detected change at index 27711\n",
      "Detected change at index 28191\n",
      "Detected change at index 29407\n",
      "Detected change at index 29471\n",
      "Detected change at index 29535\n",
      "Detected change at index 31487\n",
      "Detected change at index 31551\n",
      "Detected change at index 33919\n",
      "Detected change at index 35391\n",
      "Detected change at index 35423\n",
      "Detected change at index 36287\n",
      "Detected change at index 37695\n",
      "Detected change at index 39007\n",
      "Detected change at index 39839\n",
      "Detected change at index 43135\n",
      "Accuracy = 80.54\n"
     ]
    }
   ],
   "source": [
    "from capymoa.drift.detectors import ADWIN\n",
    "from capymoa.instance import LabeledInstance\n",
    "from capymoa.type_alias import LabelIndex\n",
    "from capymoa.stream.preprocessing import MOATransformer\n",
    "from capymoa.stream.preprocessing import ClassifierPipeline\n",
    "from capymoa.stream import Stream\n",
    "from moa.streams.filters import NormalisationFilter, ReplacingMissingValuesFilter\n",
    "from moa.streams import FilteredStream\n",
    "\n",
    "elec_stream = Electricity()\n",
    "\n",
    "# Creating the transformers\n",
    "missing_values_transformer = MOATransformer(schema=elec_stream.get_schema(), moa_filter=ReplacingMissingValuesFilter())\n",
    "normalisation_transformer = MOATransformer(schema=missing_values_transformer.get_schema(), moa_filter=NormalisationFilter())\n",
    "\n",
    "# Creating a learner\n",
    "ob_learner = OnlineBagging(schema=normalisation_transformer.get_schema(), ensemble_size=5)\n",
    "\n",
    "# Creating a drift detector\n",
    "drift_detector = ADWIN()\n",
    "\n",
    "# Define a function that prepares the input of the drift detector\n",
    "def label_equals_prediction(instance: LabeledInstance, prediction: LabelIndex) -> LabelIndex:\n",
    "    label = instance.y_index\n",
    "    return int(label == prediction)\n",
    "\n",
    "# Creating and populating the pipeline\n",
    "pipeline = (ClassifierPipeline()\n",
    "            .add_transformer(missing_values_transformer)\n",
    "            .add_transformer(normalisation_transformer)\n",
    "            .add_classifier(ob_learner)\n",
    "            .add_drift_detector(drift_detector, get_drift_detector_input_func=label_equals_prediction))\n",
    "\n",
    "# Creating the evaluator\n",
    "ob_evaluator = ClassificationEvaluator(schema=elec_stream.get_schema()) \n",
    "\n",
    "i = 0\n",
    "while elec_stream.has_more_instances():\n",
    "    instance = elec_stream.next_instance()\n",
    "    prediction = pipeline.predict(instance)\n",
    "    ob_evaluator.update(instance.y_index, prediction)\n",
    "    pipeline.train(instance)\n",
    "    if drift_detector.detected_change():\n",
    "        print(f\"Detected change at index {i}\")\n",
    "    i += 1\n",
    "\n",
    "print(f\"Accuracy = {round(ob_evaluator.accuracy(), 2)}\")"
   ]
  },
  {
   "cell_type": "markdown",
   "id": "0392072a-79e6-41d2-9a0c-f72358e936b0",
   "metadata": {},
   "source": [
    "### 4.2 Unsupervised drift detection\n",
    "\n",
    "For the sake of illustration, this example is very simple. However, one can easily think of more complex use cases of `get_drift_detector_input_func`. One can provide any object that implements `__call__(instance, prediction)`. For example, one could provide a class that monitors the correlation between a set of input features.\n",
    "\n",
    "In this example, we simply monitor the first input feature"
   ]
  },
  {
   "cell_type": "code",
   "execution_count": 7,
   "id": "d6f2794b-9a65-4be1-a678-fa90dff05c5f",
   "metadata": {},
   "outputs": [
    {
     "name": "stdout",
     "output_type": "stream",
     "text": [
      "Detected change at index 95\n",
      "Detected change at index 159\n",
      "Accuracy = 80.54\n"
     ]
    }
   ],
   "source": [
    "from capymoa.drift.detectors import ADWIN\n",
    "from capymoa.instance import LabeledInstance\n",
    "from capymoa.type_alias import LabelIndex\n",
    "from moa.streams.filters import NormalisationFilter, ReplacingMissingValuesFilter\n",
    "from moa.streams import FilteredStream\n",
    "\n",
    "elec_stream = Electricity()\n",
    "\n",
    "# Create the transformers\n",
    "missing_values_transformer = MOATransformer(schema=elec_stream.get_schema(), moa_filter=ReplacingMissingValuesFilter())\n",
    "normalisation_transformer = MOATransformer(schema=missing_values_transformer.get_schema(), moa_filter=NormalisationFilter())\n",
    "\n",
    "# Create a learner\n",
    "ob_learner = OnlineBagging(schema=normalisation_transformer.get_schema(), ensemble_size=5)\n",
    "\n",
    "# Create a drift detector\n",
    "class FeatureMonitor:\n",
    "    def __init__(self, feature: int):\n",
    "        self.feature = feature\n",
    "        \n",
    "    \"\"\"\n",
    "    Here we could of course implement a much more sophisticated logic\n",
    "    ...\n",
    "    \"\"\"\n",
    "    \n",
    "    def __call__(self, instance: LabeledInstance, prediction: LabelIndex) -> LabelIndex:\n",
    "        feature_val = instance.x[self.feature]\n",
    "        return int(feature_val > 0.0)\n",
    "        \n",
    "drift_detector = ADWIN()\n",
    "feature_monitor = FeatureMonitor(feature=0)\n",
    "\n",
    "# Creating and populating the pipeline\n",
    "pipeline = (ClassifierPipeline()\n",
    "            .add_drift_detector(drift_detector, get_drift_detector_input_func=feature_monitor)\n",
    "            .add_transformer(missing_values_transformer)\n",
    "            .add_transformer(normalisation_transformer) \n",
    "            .add_classifier(ob_learner)\n",
    "           )\n",
    "\n",
    "# Creating the evaluator\n",
    "ob_evaluator = ClassificationEvaluator(schema=elec_stream.get_schema()) \n",
    "\n",
    "i = 0\n",
    "while elec_stream.has_more_instances():\n",
    "    instance = elec_stream.next_instance()\n",
    "    prediction = pipeline.predict(instance)\n",
    "    ob_evaluator.update(instance.y_index, prediction)\n",
    "    pipeline.train(instance)\n",
    "    if drift_detector.detected_change():\n",
    "        print(f\"Detected change at index {i}\")\n",
    "    i += 1\n",
    "\n",
    "print(f\"Accuracy = {round(ob_evaluator.accuracy(), 2)}\")"
   ]
  },
  {
   "cell_type": "markdown",
   "id": "770f37d9-c293-4379-9412-a07701fe57f3",
   "metadata": {},
   "source": [
    "## 5. Pipelines within pipelines"
   ]
  },
  {
   "cell_type": "code",
   "execution_count": 8,
   "id": "a4fecd51-b0ed-4cf1-b54e-dd3c4185f537",
   "metadata": {},
   "outputs": [
    {
     "name": "stdout",
     "output_type": "stream",
     "text": [
      "Detected change at index 3039\n",
      "Detected change at index 5535\n",
      "Detected change at index 9183\n",
      "Detected change at index 9215\n",
      "Detected change at index 9535\n",
      "Detected change at index 9599\n",
      "Detected change at index 12415\n",
      "Detected change at index 13023\n",
      "Detected change at index 13183\n",
      "Detected change at index 16031\n",
      "Detected change at index 18143\n",
      "Detected change at index 18815\n",
      "Detected change at index 18879\n",
      "Detected change at index 19263\n",
      "Detected change at index 21407\n",
      "Detected change at index 21503\n",
      "Detected change at index 23775\n",
      "Detected change at index 24095\n",
      "Detected change at index 24127\n",
      "Detected change at index 24959\n",
      "Detected change at index 24991\n",
      "Detected change at index 26143\n",
      "Detected change at index 27711\n",
      "Detected change at index 28191\n",
      "Detected change at index 29407\n",
      "Detected change at index 29471\n",
      "Detected change at index 29535\n",
      "Detected change at index 31487\n",
      "Detected change at index 31551\n",
      "Detected change at index 33919\n",
      "Detected change at index 35391\n",
      "Detected change at index 35423\n",
      "Detected change at index 36287\n",
      "Detected change at index 37695\n",
      "Detected change at index 39007\n",
      "Detected change at index 39839\n",
      "Detected change at index 43135\n",
      "Accuracy = 80.54\n"
     ]
    }
   ],
   "source": [
    "from capymoa.drift.detectors import ADWIN\n",
    "from capymoa.instance import LabeledInstance\n",
    "from capymoa.type_alias import LabelIndex\n",
    "from moa.streams.filters import NormalisationFilter, ReplacingMissingValuesFilter\n",
    "from moa.streams import FilteredStream\n",
    "\n",
    "elec_stream = Electricity()\n",
    "\n",
    "# Creating the transformers\n",
    "missing_values_transformer = MOATransformer(schema=elec_stream.get_schema(), moa_filter=ReplacingMissingValuesFilter())\n",
    "normalisation_transformer = MOATransformer(schema=missing_values_transformer.get_schema(), moa_filter=NormalisationFilter())\n",
    "\n",
    "# Creating a learner\n",
    "ob_learner = OnlineBagging(schema=normalisation_transformer.get_schema(), ensemble_size=5)\n",
    "\n",
    "# Creating a drift detector\n",
    "drift_detector = ADWIN()\n",
    "\n",
    "# Define a function that prepares the input of the drift detector\n",
    "def label_equals_prediction(instance: LabeledInstance, prediction: LabelIndex) -> LabelIndex:\n",
    "    label = instance.y_index\n",
    "    return int(label == prediction)\n",
    "\n",
    "# Creating and populating the transformation pipeline\n",
    "trafo_pipeline = (BasePipeline()\n",
    "                  .add_transformer(missing_values_transformer)\n",
    "                  .add_transformer(normalisation_transformer)\n",
    "                 )\n",
    "\n",
    "# Creating and populating the prediction pipeline\n",
    "prediction_pipeline = ClassifierPipeline().add_classifier(ob_learner)\n",
    "\n",
    "# Creating and populating the drift detection pipeline\n",
    "drift_pipeline = BasePipeline().add_drift_detector(drift_detector, get_drift_detector_input_func=label_equals_prediction)\n",
    "\n",
    "# Setting up the final pipeline\n",
    "pipeline = (ClassifierPipeline()\n",
    "            .add_pipeline_element(trafo_pipeline)\n",
    "            .add_pipeline_element(prediction_pipeline)\n",
    "            .add_pipeline_element(drift_pipeline))\n",
    "\n",
    "# Creating the evaluator\n",
    "ob_evaluator = ClassificationEvaluator(schema=elec_stream.get_schema()) \n",
    "\n",
    "i = 0\n",
    "while elec_stream.has_more_instances():\n",
    "    instance = elec_stream.next_instance()\n",
    "    prediction = pipeline.predict(instance)\n",
    "    ob_evaluator.update(instance.y_index, prediction)\n",
    "    pipeline.train(instance)\n",
    "    if drift_detector.detected_change():\n",
    "        print(f\"Detected change at index {i}\")\n",
    "    i += 1\n",
    "\n",
    "print(f\"Accuracy = {round(ob_evaluator.accuracy(), 2)}\")"
   ]
  },
  {
   "cell_type": "markdown",
   "id": "b42c1b9d-4840-4960-a248-65ceb29fc7a8",
   "metadata": {},
   "source": [
    "# Defining custom pipeline elements\n",
    "## Random Search"
   ]
  },
  {
   "cell_type": "code",
   "execution_count": 9,
   "id": "4e6f8ec9-46af-4b21-aa95-450c2fb337a3",
   "metadata": {},
   "outputs": [],
   "source": [
    "from typing import Optional, List, Protocol, Tuple, Any, Callable\n",
    "import numpy as np\n",
    "from capymoa.base import Classifier\n",
    "from capymoa.stream.preprocessing import ClassifierPipelineElement\n",
    "from capymoa.type_alias import LabelProbabilities, LabelIndex, TargetValue\n",
    "from capymoa.instance import LabeledInstance, Instance, RegressionInstance\n",
    "\n",
    "class RandomSearchClassifierPE(ClassifierPipelineElement, Classifier):\n",
    "    def __init__(self,\n",
    "                 classifier_class: Classifier,\n",
    "                 hyperparameter_ranges: dict,\n",
    "                 n_combinations: int,\n",
    "                 rng: np.random.Generator):\n",
    "        \n",
    "        # initialize the pipeline element but don't specify a learner\n",
    "        super(RandomSearchClassifierPE, self).__init__(learner=None)\n",
    "\n",
    "        # assign the variables from the initializer\n",
    "        self.classifier_class = classifier_class\n",
    "        self.hyperparameter_ranges = hyperparameter_ranges\n",
    "        self.n_combinations = n_combinations\n",
    "        self.rng = rng\n",
    "\n",
    "        # sample n_combinations of hyperparameters\n",
    "        self.hyperparameters = []\n",
    "        for _ in range(n_combinations):\n",
    "            hp_combination = {\n",
    "                hp_name: rng.choice(values) for hp_name, values in hyperparameter_ranges.items()\n",
    "            }\n",
    "            self.hyperparameters.append(hp_combination)\n",
    "\n",
    "        # instantiate models\n",
    "        self.models = [self.classifier_class(**hp_kwargs) for hp_kwargs in self.hyperparameters]\n",
    "        self.model_accuracy = [0.0 for _ in range(len(self.models))]\n",
    "        self.seen_instances = 0\n",
    "\n",
    "    def __str__(self):\n",
    "        return f\"RandomSearch({str(self.classifier_class.__name__)})\"\n",
    "\n",
    "    def pass_forward(self, instance: LabeledInstance) -> Instance:\n",
    "        # loop through all models, update their accuracy, and train them\n",
    "        for model_idx, model in enumerate(self.models):\n",
    "            y_hat = model.predict(instance)\n",
    "\n",
    "            correct = int(y_hat == instance.y_index)\n",
    "            old_acc = self.model_accuracy[model_idx]\n",
    "            new_acc = (old_acc * self.seen_instances + correct) / (self.seen_instances + 1)\n",
    "            self.model_accuracy[model_idx] = new_acc\n",
    "\n",
    "            model.train(instance)\n",
    "        self.seen_instances += 1\n",
    "        return instance\n",
    "\n",
    "    def pass_forward_predict(self, instance: Instance, prediction=None) -> Tuple[Instance, Any]:\n",
    "        # find the best model, let it do the prediction\n",
    "        best_model_idx = np.argmax(self.model_accuracy)\n",
    "        best_model = self.models[best_model_idx]\n",
    "        return instance, best_model.predict(instance)\n",
    "\n",
    "    def train(self, instance: LabeledInstance):\n",
    "        self.pass_forward(instance)\n",
    "        return self\n",
    "\n",
    "    def predict(self, instance: Instance) -> Optional[LabelIndex]:\n",
    "        inst, pred = self.pass_forward_predict(instance)\n",
    "        return pred\n",
    "\n",
    "    def predict_proba(self, instance: Instance) -> LabelProbabilities:\n",
    "        raise NotImplementedError\n"
   ]
  },
  {
   "cell_type": "code",
   "execution_count": 10,
   "id": "041616e1-ae97-45ac-b014-1e8793204a6f",
   "metadata": {},
   "outputs": [],
   "source": [
    "import numpy as np\n",
    "from capymoa.classifier import HoeffdingTree\n",
    "from capymoa.stream.preprocessing import TransformerPipelineElement\n",
    "\n",
    "elec_stream = Electricity()\n",
    "normalisation_transformer = MOATransformer(schema=elec_stream.get_schema(), moa_filter=NormalisationFilter())\n",
    "\n",
    "ht_pipeline_element = ClassifierPipelineElement(HoeffdingTree(elec_stream.get_schema()))\n",
    "ht_pipeline = ClassifierPipeline([TransformerPipelineElement(normalisation_transformer), ht_pipeline_element])\n",
    "\n",
    "classifier_class = HoeffdingTree\n",
    "\n",
    "hyperparameter_ranges = {\n",
    "    \"schema\": [elec_stream.get_schema()],\n",
    "    \"grace_period\": [1, 50, 100, 200, 500],\n",
    "    \"split_criterion\": [\"InfoGainSplitCriterion\", \"GiniSplitCriterion\"],\n",
    "    \"confidence\": [10.0 ** (-i) for i in range(1, 5)],\n",
    "    \"tie_threshold\": [0.05, 0.03, 0.01, 0.001]\n",
    "}\n",
    "\n",
    "rng = np.random.default_rng(0)\n",
    "n_combinations = 50\n",
    "\n",
    "random_search_pe = RandomSearchClassifierPE(classifier_class, hyperparameter_ranges, n_combinations, rng)\n",
    "normalisation_transformer = MOATransformer(schema=elec_stream.get_schema(), moa_filter=NormalisationFilter())\n",
    "\n",
    "rs_pipeline = ClassifierPipeline([TransformerPipelineElement(normalisation_transformer), random_search_pe])"
   ]
  },
  {
   "cell_type": "code",
   "execution_count": 11,
   "id": "35b62d5d-28fa-46ce-9310-c0eb162fe0ba",
   "metadata": {},
   "outputs": [
    {
     "name": "stdout",
     "output_type": "stream",
     "text": [
      "PE(Transformer(NormalisationFilter)) | PE(HoeffdingTree) |  [cumulative] Accuracy = 78.954802259887\n",
      "PE(Transformer(NormalisationFilter)) | RandomSearch(HoeffdingTree) |   [cumulative] Accuracy = 80.89909957627118\n"
     ]
    },
    {
     "data": {
      "image/png": "[encoded data removed]",
      "text/plain": [
       "<Figure size 1200x500 with 1 Axes>"
      ]
     },
     "metadata": {},
     "output_type": "display_data"
    }
   ],
   "source": [
    "from capymoa.evaluation.visualization import plot_windowed_results\n",
    "from capymoa.evaluation import prequential_evaluation\n",
    "\n",
    "ht_results = prequential_evaluation(stream=elec_stream, learner=ht_pipeline, window_size=1000)\n",
    "rs_results = prequential_evaluation(stream=elec_stream, learner=rs_pipeline, window_size=1000)\n",
    "\n",
    "print(f\"{ht_results['learner']} [cumulative] Accuracy = {ht_results['cumulative'].accuracy()}\")\n",
    "print(f\"{rs_results['learner']}  [cumulative] Accuracy = {rs_results['cumulative'].accuracy()}\")\n",
    "\n",
    "plot_windowed_results(ht_results, rs_results, metric=\"accuracy\", figure_path=None)"
   ]
  },
  {
   "cell_type": "code",
   "execution_count": null,
   "id": "f6e890dd-d04d-4953-a071-55c745715275",
   "metadata": {},
   "outputs": [],
   "source": []
  }
 ],
 "metadata": {
  "kernelspec": {
   "display_name": "Python 3 (ipykernel)",
   "language": "python",
   "name": "python3"
  },
  "language_info": {
   "codemirror_mode": {
    "name": "ipython",
    "version": 3
   },
   "file_extension": ".py",
   "mimetype": "text/x-python",
   "name": "python",
   "nbconvert_exporter": "python",
   "pygments_lexer": "ipython3",
   "version": "3.9.19"
  }
 },
 "nbformat": 4,
 "nbformat_minor": 5
}
